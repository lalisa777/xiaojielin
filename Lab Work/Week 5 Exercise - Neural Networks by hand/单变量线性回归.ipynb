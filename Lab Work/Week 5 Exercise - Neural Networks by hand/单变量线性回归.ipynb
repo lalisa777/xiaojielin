{
 "cells": [
  {
   "cell_type": "markdown",
   "metadata": {},
   "source": [
    "#案例：假设你是一家餐厅的CEO，正在考虑开一家分店，根据城市的人口数据预测其利润\n",
    "#我们拥有不同城市对于的人口数据以及利润：ex1data1.txt\n"
   ]
  },
  {
   "cell_type": "code",
   "execution_count": 9,
   "metadata": {},
   "outputs": [],
   "source": [
    "import numpy as np\n",
    "import pandas as pd\n",
    "import matplotlib.pyplot as plt\n",
    "#numpy:科学计算库，处理多维数组，进行数据分析\n",
    "#pandas：是基于numpy的一种工具，该工具是为了解决数据分析任务而创建的\n",
    "#Matplotlib：2D绘图库\n",
    "#matplotilb.pyplot：提供类似matlab的绘图框架\n",
    "#pandas.read-csv(1.字符串，要读取文件的路径，可放http，ftp，s3，file 2.分隔符，默认为“，” 3.整数，指定第几行作为列名，若没有，默认header=0 4.列名）"
   ]
  },
  {
   "cell_type": "code",
   "execution_count": 317,
   "metadata": {},
   "outputs": [
    {
     "data": {
      "text/html": [
       "<div>\n",
       "<style scoped>\n",
       "    .dataframe tbody tr th:only-of-type {\n",
       "        vertical-align: middle;\n",
       "    }\n",
       "\n",
       "    .dataframe tbody tr th {\n",
       "        vertical-align: top;\n",
       "    }\n",
       "\n",
       "    .dataframe thead th {\n",
       "        text-align: right;\n",
       "    }\n",
       "</style>\n",
       "<table border=\"1\" class=\"dataframe\">\n",
       "  <thead>\n",
       "    <tr style=\"text-align: right;\">\n",
       "      <th></th>\n",
       "      <th>population</th>\n",
       "      <th>profit</th>\n",
       "    </tr>\n",
       "  </thead>\n",
       "  <tbody>\n",
       "    <tr>\n",
       "      <td>0</td>\n",
       "      <td>6.1101</td>\n",
       "      <td>17.5920</td>\n",
       "    </tr>\n",
       "    <tr>\n",
       "      <td>1</td>\n",
       "      <td>5.5277</td>\n",
       "      <td>9.1302</td>\n",
       "    </tr>\n",
       "    <tr>\n",
       "      <td>2</td>\n",
       "      <td>8.5186</td>\n",
       "      <td>13.6620</td>\n",
       "    </tr>\n",
       "    <tr>\n",
       "      <td>3</td>\n",
       "      <td>7.0032</td>\n",
       "      <td>11.8540</td>\n",
       "    </tr>\n",
       "    <tr>\n",
       "      <td>4</td>\n",
       "      <td>5.8598</td>\n",
       "      <td>6.8233</td>\n",
       "    </tr>\n",
       "  </tbody>\n",
       "</table>\n",
       "</div>"
      ],
      "text/plain": [
       "   population   profit\n",
       "0      6.1101  17.5920\n",
       "1      5.5277   9.1302\n",
       "2      8.5186  13.6620\n",
       "3      7.0032  11.8540\n",
       "4      5.8598   6.8233"
      ]
     },
     "execution_count": 317,
     "metadata": {},
     "output_type": "execute_result"
    }
   ],
   "source": [
    "#pandas.read-csv(1.字符串，要读取文件的路径，可放http，ftp，s3，file 2.分隔符，默认为“，” 3.整数，指定第几行作为列名，若没有，默认header=0 4.列名）\n",
    "data = pd.read_csv('ex1data1.txt',names=['population','profit'])\n",
    "data.head()#预览前五行"
   ]
  },
  {
   "cell_type": "code",
   "execution_count": 4,
   "metadata": {},
   "outputs": [
    {
     "data": {
      "text/html": [
       "<div>\n",
       "<style scoped>\n",
       "    .dataframe tbody tr th:only-of-type {\n",
       "        vertical-align: middle;\n",
       "    }\n",
       "\n",
       "    .dataframe tbody tr th {\n",
       "        vertical-align: top;\n",
       "    }\n",
       "\n",
       "    .dataframe thead th {\n",
       "        text-align: right;\n",
       "    }\n",
       "</style>\n",
       "<table border=\"1\" class=\"dataframe\">\n",
       "  <thead>\n",
       "    <tr style=\"text-align: right;\">\n",
       "      <th></th>\n",
       "      <th>population</th>\n",
       "      <th>profit</th>\n",
       "    </tr>\n",
       "  </thead>\n",
       "  <tbody>\n",
       "    <tr>\n",
       "      <td>92</td>\n",
       "      <td>5.8707</td>\n",
       "      <td>7.20290</td>\n",
       "    </tr>\n",
       "    <tr>\n",
       "      <td>93</td>\n",
       "      <td>5.3054</td>\n",
       "      <td>1.98690</td>\n",
       "    </tr>\n",
       "    <tr>\n",
       "      <td>94</td>\n",
       "      <td>8.2934</td>\n",
       "      <td>0.14454</td>\n",
       "    </tr>\n",
       "    <tr>\n",
       "      <td>95</td>\n",
       "      <td>13.3940</td>\n",
       "      <td>9.05510</td>\n",
       "    </tr>\n",
       "    <tr>\n",
       "      <td>96</td>\n",
       "      <td>5.4369</td>\n",
       "      <td>0.61705</td>\n",
       "    </tr>\n",
       "  </tbody>\n",
       "</table>\n",
       "</div>"
      ],
      "text/plain": [
       "    population   profit\n",
       "92      5.8707  7.20290\n",
       "93      5.3054  1.98690\n",
       "94      8.2934  0.14454\n",
       "95     13.3940  9.05510\n",
       "96      5.4369  0.61705"
      ]
     },
     "execution_count": 4,
     "metadata": {},
     "output_type": "execute_result"
    }
   ],
   "source": [
    "data.tail()#看后五个 "
   ]
  },
  {
   "cell_type": "code",
   "execution_count": 5,
   "metadata": {},
   "outputs": [
    {
     "data": {
      "text/html": [
       "<div>\n",
       "<style scoped>\n",
       "    .dataframe tbody tr th:only-of-type {\n",
       "        vertical-align: middle;\n",
       "    }\n",
       "\n",
       "    .dataframe tbody tr th {\n",
       "        vertical-align: top;\n",
       "    }\n",
       "\n",
       "    .dataframe thead th {\n",
       "        text-align: right;\n",
       "    }\n",
       "</style>\n",
       "<table border=\"1\" class=\"dataframe\">\n",
       "  <thead>\n",
       "    <tr style=\"text-align: right;\">\n",
       "      <th></th>\n",
       "      <th>population</th>\n",
       "      <th>profit</th>\n",
       "    </tr>\n",
       "  </thead>\n",
       "  <tbody>\n",
       "    <tr>\n",
       "      <td>count</td>\n",
       "      <td>97.000000</td>\n",
       "      <td>97.000000</td>\n",
       "    </tr>\n",
       "    <tr>\n",
       "      <td>mean</td>\n",
       "      <td>8.159800</td>\n",
       "      <td>5.839135</td>\n",
       "    </tr>\n",
       "    <tr>\n",
       "      <td>std</td>\n",
       "      <td>3.869884</td>\n",
       "      <td>5.510262</td>\n",
       "    </tr>\n",
       "    <tr>\n",
       "      <td>min</td>\n",
       "      <td>5.026900</td>\n",
       "      <td>-2.680700</td>\n",
       "    </tr>\n",
       "    <tr>\n",
       "      <td>25%</td>\n",
       "      <td>5.707700</td>\n",
       "      <td>1.986900</td>\n",
       "    </tr>\n",
       "    <tr>\n",
       "      <td>50%</td>\n",
       "      <td>6.589400</td>\n",
       "      <td>4.562300</td>\n",
       "    </tr>\n",
       "    <tr>\n",
       "      <td>75%</td>\n",
       "      <td>8.578100</td>\n",
       "      <td>7.046700</td>\n",
       "    </tr>\n",
       "    <tr>\n",
       "      <td>max</td>\n",
       "      <td>22.203000</td>\n",
       "      <td>24.147000</td>\n",
       "    </tr>\n",
       "  </tbody>\n",
       "</table>\n",
       "</div>"
      ],
      "text/plain": [
       "       population     profit\n",
       "count   97.000000  97.000000\n",
       "mean     8.159800   5.839135\n",
       "std      3.869884   5.510262\n",
       "min      5.026900  -2.680700\n",
       "25%      5.707700   1.986900\n",
       "50%      6.589400   4.562300\n",
       "75%      8.578100   7.046700\n",
       "max     22.203000  24.147000"
      ]
     },
     "execution_count": 5,
     "metadata": {},
     "output_type": "execute_result"
    }
   ],
   "source": [
    "data.describe()"
   ]
  },
  {
   "cell_type": "code",
   "execution_count": 6,
   "metadata": {},
   "outputs": [
    {
     "name": "stdout",
     "output_type": "stream",
     "text": [
      "<class 'pandas.core.frame.DataFrame'>\n",
      "RangeIndex: 97 entries, 0 to 96\n",
      "Data columns (total 2 columns):\n",
      "population    97 non-null float64\n",
      "profit        97 non-null float64\n",
      "dtypes: float64(2)\n",
      "memory usage: 1.6 KB\n"
     ]
    }
   ],
   "source": [
    "data.info()"
   ]
  },
  {
   "cell_type": "code",
   "execution_count": 8,
   "metadata": {},
   "outputs": [
    {
     "data": {
      "image/png": "[encoded data removed]",
      "text/plain": [
       "<Figure size 432x288 with 1 Axes>"
      ]
     },
     "metadata": {
      "needs_background": "light"
     },
     "output_type": "display_data"
    }
   ],
   "source": [
    "data.plot.scatter('population','profit',label='training set')\n",
    "plt.show()"
   ]
  },
  {
   "cell_type": "code",
   "execution_count": 10,
   "metadata": {},
   "outputs": [
    {
     "data": {
      "text/html": [
       "<div>\n",
       "<style scoped>\n",
       "    .dataframe tbody tr th:only-of-type {\n",
       "        vertical-align: middle;\n",
       "    }\n",
       "\n",
       "    .dataframe tbody tr th {\n",
       "        vertical-align: top;\n",
       "    }\n",
       "\n",
       "    .dataframe thead th {\n",
       "        text-align: right;\n",
       "    }\n",
       "</style>\n",
       "<table border=\"1\" class=\"dataframe\">\n",
       "  <thead>\n",
       "    <tr style=\"text-align: right;\">\n",
       "      <th></th>\n",
       "      <th>ones</th>\n",
       "      <th>population</th>\n",
       "      <th>profit</th>\n",
       "    </tr>\n",
       "  </thead>\n",
       "  <tbody>\n",
       "    <tr>\n",
       "      <td>0</td>\n",
       "      <td>1</td>\n",
       "      <td>6.1101</td>\n",
       "      <td>17.5920</td>\n",
       "    </tr>\n",
       "    <tr>\n",
       "      <td>1</td>\n",
       "      <td>1</td>\n",
       "      <td>5.5277</td>\n",
       "      <td>9.1302</td>\n",
       "    </tr>\n",
       "    <tr>\n",
       "      <td>2</td>\n",
       "      <td>1</td>\n",
       "      <td>8.5186</td>\n",
       "      <td>13.6620</td>\n",
       "    </tr>\n",
       "    <tr>\n",
       "      <td>3</td>\n",
       "      <td>1</td>\n",
       "      <td>7.0032</td>\n",
       "      <td>11.8540</td>\n",
       "    </tr>\n",
       "    <tr>\n",
       "      <td>4</td>\n",
       "      <td>1</td>\n",
       "      <td>5.8598</td>\n",
       "      <td>6.8233</td>\n",
       "    </tr>\n",
       "  </tbody>\n",
       "</table>\n",
       "</div>"
      ],
      "text/plain": [
       "   ones  population   profit\n",
       "0     1      6.1101  17.5920\n",
       "1     1      5.5277   9.1302\n",
       "2     1      8.5186  13.6620\n",
       "3     1      7.0032  11.8540\n",
       "4     1      5.8598   6.8233"
      ]
     },
     "execution_count": 10,
     "metadata": {},
     "output_type": "execute_result"
    }
   ],
   "source": [
    "#在数据集前面再插入一列\n",
    "data.insert(0,'ones',1)\n",
    "data.head()"
   ]
  },
  {
   "cell_type": "code",
   "execution_count": 13,
   "metadata": {},
   "outputs": [
    {
     "data": {
      "text/html": [
       "<div>\n",
       "<style scoped>\n",
       "    .dataframe tbody tr th:only-of-type {\n",
       "        vertical-align: middle;\n",
       "    }\n",
       "\n",
       "    .dataframe tbody tr th {\n",
       "        vertical-align: top;\n",
       "    }\n",
       "\n",
       "    .dataframe thead th {\n",
       "        text-align: right;\n",
       "    }\n",
       "</style>\n",
       "<table border=\"1\" class=\"dataframe\">\n",
       "  <thead>\n",
       "    <tr style=\"text-align: right;\">\n",
       "      <th></th>\n",
       "      <th>ones</th>\n",
       "      <th>population</th>\n",
       "    </tr>\n",
       "  </thead>\n",
       "  <tbody>\n",
       "    <tr>\n",
       "      <td>0</td>\n",
       "      <td>1</td>\n",
       "      <td>6.1101</td>\n",
       "    </tr>\n",
       "    <tr>\n",
       "      <td>1</td>\n",
       "      <td>1</td>\n",
       "      <td>5.5277</td>\n",
       "    </tr>\n",
       "    <tr>\n",
       "      <td>2</td>\n",
       "      <td>1</td>\n",
       "      <td>8.5186</td>\n",
       "    </tr>\n",
       "    <tr>\n",
       "      <td>3</td>\n",
       "      <td>1</td>\n",
       "      <td>7.0032</td>\n",
       "    </tr>\n",
       "    <tr>\n",
       "      <td>4</td>\n",
       "      <td>1</td>\n",
       "      <td>5.8598</td>\n",
       "    </tr>\n",
       "  </tbody>\n",
       "</table>\n",
       "</div>"
      ],
      "text/plain": [
       "   ones  population\n",
       "0     1      6.1101\n",
       "1     1      5.5277\n",
       "2     1      8.5186\n",
       "3     1      7.0032\n",
       "4     1      5.8598"
      ]
     },
     "execution_count": 13,
     "metadata": {},
     "output_type": "execute_result"
    }
   ],
   "source": [
    "#数据切片\n",
    "X = data.iloc[:,0:-1] #[行,列] 全要就是:  区间就是[0,-1) 第一列0 第二列1 ... 最后一列-1\n",
    "X.head()"
   ]
  },
  {
   "cell_type": "code",
   "execution_count": 313,
   "metadata": {},
   "outputs": [
    {
     "data": {
      "text/plain": [
       "(97,)"
      ]
     },
     "execution_count": 313,
     "metadata": {},
     "output_type": "execute_result"
    }
   ],
   "source": [
    "Y = data.iloc[:,-1]\n",
    "Y.head()\n",
    "Y.shape"
   ]
  },
  {
   "cell_type": "code",
   "execution_count": 33,
   "metadata": {},
   "outputs": [
    {
     "data": {
      "text/plain": [
       "(97, 2)"
      ]
     },
     "execution_count": 33,
     "metadata": {},
     "output_type": "execute_result"
    }
   ],
   "source": [
    "#结构变化：从dataframe（pd）转到ndarray数组\n",
    "#df.values\n",
    "#df.as-matrix()\n",
    "#np.array(df)\n",
    "X = np.array(X)\n",
    "X.shape#数组纬度"
   ]
  },
  {
   "cell_type": "code",
   "execution_count": 311,
   "metadata": {},
   "outputs": [
    {
     "data": {
      "text/plain": [
       "(97, 1)"
      ]
     },
     "execution_count": 311,
     "metadata": {},
     "output_type": "execute_result"
    }
   ],
   "source": [
    "Y = np.array(Y)\n",
    "Y.shape"
   ]
  },
  {
   "cell_type": "code",
   "execution_count": 312,
   "metadata": {},
   "outputs": [
    {
     "data": {
      "text/plain": [
       "(97, 1)"
      ]
     },
     "execution_count": 312,
     "metadata": {},
     "output_type": "execute_result"
    }
   ],
   "source": [
    "Y = Y.reshape(97,1)\n",
    "Y.shape"
   ]
  },
  {
   "cell_type": "code",
   "execution_count": 56,
   "metadata": {},
   "outputs": [],
   "source": [
    "def costFunct(X,Y,theta):\n",
    "    inner = np.power(X@theta-Y,2)#内部运算结构 @矩阵相乘 \n",
    "    return np.sum(inner)/(2y*len(X))"
   ]
  },
  {
   "cell_type": "code",
   "execution_count": 230,
   "metadata": {},
   "outputs": [
    {
     "data": {
      "text/plain": [
       "(2, 1)"
      ]
     },
     "execution_count": 230,
     "metadata": {},
     "output_type": "execute_result"
    }
   ],
   "source": [
    "theta = np.zeros((2,1))\n",
    "theta.shape"
   ]
  },
  {
   "cell_type": "code",
   "execution_count": 57,
   "metadata": {},
   "outputs": [
    {
     "name": "stdout",
     "output_type": "stream",
     "text": [
      "32.072733877455676\n"
     ]
    }
   ],
   "source": [
    "cost_init = costFunct(X,Y,theta)\n",
    "print(cost_init)"
   ]
  },
  {
   "cell_type": "code",
   "execution_count": 293,
   "metadata": {},
   "outputs": [],
   "source": [
    "def gradient(X,Y,theta,alpha,iters):\n",
    "    costs = []\n",
    "    for i in range(iters):\n",
    "        theta = theta - (X.T@(X@theta-Y))*alpha/len(X)\n",
    "        cost = costFunct(X,Y,theta)\n",
    "        costs.append(cost)\n",
    "        \n",
    "        #if i%100==0:\n",
    "          #  print(cost)\n",
    "    \n",
    "    return theta,costs"
   ]
  },
  {
   "cell_type": "code",
   "execution_count": 295,
   "metadata": {
    "scrolled": false
   },
   "outputs": [],
   "source": [
    "theta = np.zeros((2,1))\n",
    "alpha = 0.02\n",
    "iters = 2000\n",
    "\n",
    "theta,costs = gradient(X,Y,theta,alpha,iters)"
   ]
  },
  {
   "cell_type": "code",
   "execution_count": 296,
   "metadata": {},
   "outputs": [
    {
     "name": "stdout",
     "output_type": "stream",
     "text": [
      "[16.76964237166745, 10.407579751768969, 7.759183480302341, 6.653287534646751, 6.188105823037991, 5.989084519364203, 5.900653772925786, 5.858197920163226, 5.834878785201405, 5.819548934223245, 5.807578027277277, 5.797042577385664, 5.787143381054755, 5.777548203870704, 5.768118767375578, 5.758797354060333, 5.749559709152846, 5.740395478534908, 5.731300083688731, 5.7222713469714925, 5.713308089921203, 5.70440955105392, 5.695575144033777, 5.686804357215719, 5.678096711906953, 5.669451745017106, 5.660869001838244, 5.6523480330323945, 5.643888393366726, 5.635489641174721, 5.6271513381189795, 5.618873049079403, 5.6106543420935395, 5.602494788318711, 5.59439396200325, 5.586351440461656, 5.578366804051419, 5.570439636150689, 5.562569523136332, 5.554756054362274, 5.546998822138042, 5.539297421707482, 5.531651451227627, 5.5240605117477335, 5.5165242071884535, 5.509042144321185, 5.501613932747542, 5.494239184878978, 5.486917515916582, 5.479648543830982, 5.472431889342422, 5.465267175900967, 5.458154029666859, 5.4510920794910085, 5.444080956895625, 5.437120296055004, 5.430209733776422, 5.423348909481195, 5.416537465185866, 5.409775045483519, 5.403061297525241, 5.396395871001712, 5.389778418124915, 5.383208593610006, 5.376686054657284, 5.370210460934311, 5.363781474558154, 5.357398760077756, 5.351061984456422, 5.344770817054462, 5.33852492961192, 5.3323239962314535, 5.326167693361334, 5.320055699778554, 5.313987696572079, 5.30796336712619, 5.301982397103983, 5.296044474430953, 5.290149289278716, 5.284296534048845, 5.278485903356815, 5.272717094016075, 5.266989805022217, 5.261303737537286, 5.255658594874174, 5.2500540824811495, 5.244489907926476, 5.238965780883168, 5.233481413113833, 5.228036518455633, 5.222630812805354, 5.217264014104587, 5.211935842325, 5.206646019453738, 5.201394269478911, 5.196180318375187, 5.1910038940895085, 5.185864726526886, 5.180762547536304, 5.17569709089674, 5.170668092303259, 5.1656752893532385, 5.160718421532665, 5.155797230202545, 5.1509114585854086, 5.146060851751914, 5.141245156607544, 5.136464121879404, 5.1317174981030975, 5.127005037609731, 5.12232649451297, 5.117681624696227, 5.113070185799911, 5.108491937208786, 5.103946640039418, 5.09943405712771, 5.094953953016526, 5.090506093943407, 5.08609024782837, 5.081706184261801, 5.077353674492437, 5.073032491415424, 5.068742409560468, 5.06448320508007, 5.060254655737853, 5.056056540896959, 5.051888641508537, 5.047750740100315, 5.043642620765256, 5.039564069150285, 5.0355148724451135, 5.031494819371125, 5.027503700170363, 5.023541306594575, 5.0196074318943555, 5.015701870808349, 5.0118244195525525, 5.0079748758096665, 5.004153038718556, 5.000358708863753, 4.996591688265067, 4.99285178036724, 4.989138790029705, 4.985452523516392, 4.981792788485625, 4.978159393980087, 4.974552150416855, 4.9709708695775054, 4.9674153645982955, 4.963885449960414, 4.960380941480297, 4.956901656300029, 4.953447412877782, 4.950018030978364, 4.946613331663801, 4.943233137284004, 4.939877271467503, 4.93654555911224, 4.933237826376432, 4.929953900669509, 4.926693610643094, 4.923456786182074, 4.920243258395722, 4.917052859608877, 4.913885423353209, 4.910740784358518, 4.90761877854412, 4.9045192430102835, 4.901442016029727, 4.898386937039186, 4.895353846631029, 4.892342586544944, 4.8893529996596765, 4.886384929984843, 4.883438222652771, 4.8805127239104396, 4.877608281111444, 4.874724742708034, 4.871861958243208, 4.869019778342863, 4.866198054707997, 4.863396640106972, 4.860615388367838, 4.8578541543706955, 4.85511279404013, 4.852391164337695, 4.849689123254448, 4.847006529803536, 4.844343244012846, 4.841699126917694, 4.8390740405535855, 4.836467847949003, 4.83388041311827, 4.8313116010544475, 4.828761277722299, 4.826229310051286, 4.823715565928633, 4.821219914192431, 4.818742224624793, 4.816282367945059, 4.813840215803055, 4.811415640772391, 4.809008516343814, 4.8066187169186065, 4.804246117802036, 4.8018905951968405, 4.799552026196781, 4.797230288780218, 4.79492526180375, 4.792636824995891, 4.790364858950799, 4.788109245122034, 4.785869865816388, 4.783646604187734, 4.78143934423093, 4.779247970775768, 4.777072369480967, 4.774912426828202, 4.772768030116185, 4.7706390674547805, 4.7685254277591715, 4.766427000744059, 4.764343676917911, 4.76227534757725, 4.7602219048009795, 4.7581832414447485, 4.756159251135367, 4.754149828265258, 4.752154867986938, 4.7501742662075515, 4.748207919583444, 4.746255725514761, 4.7443175821401, 4.742393388331194, 4.740483043687635, 4.738586448531637, 4.736703503902832, 4.734834111553107, 4.732978173941483, 4.731135594229015, 4.72930627627375, 4.727490124625704, 4.725687044521882, 4.723896941881337, 4.722119723300258, 4.720355296047098, 4.718603568057732, 4.716864447930661, 4.715137844922232, 4.713423668941915, 4.7117218305475905, 4.710032240940894, 4.708354811962574, 4.706689456087891, 4.705036086422067, 4.703394616695726, 4.701764961260412, 4.700147035084116, 4.698540753746834, 4.6969460334361655, 4.6953627909429425, 4.693790943656879, 4.692230409562278, 4.690681107233731, 4.689142955831885, 4.687615875099217, 4.686099785355852, 4.684594607495395, 4.6831002629808145, 4.681616673840342, 4.6801437626633975, 4.678681452596559, 4.677229667339545, 4.675788331141239, 4.674357368795731, 4.672936705638404, 4.671526267542021, 4.670125980912878, 4.668735772686943, 4.667355570326061, 4.665985301814162, 4.664624895653501, 4.663274280860927, 4.66193338696419, 4.660602143998251, 4.659280482501633, 4.657968333512809, 4.656665628566587, 4.655372299690549, 4.654088279401498, 4.652813500701945, 4.651547897076601, 4.650291402488918, 4.649043951377638, 4.6478054786533685, 4.646575919695197, 4.645355210347307, 4.64414328691564, 4.6429400861645655, 4.641745545313585, 4.640559602034057, 4.6393821944459415, 4.638213261114575, 4.637052741047458, 4.635900573691086, 4.634756698927774, 4.63362105707253, 4.632493588869937, 4.631374235491065, 4.630262938530394, 4.629159640002776, 4.628064282340399, 4.626976808389793, 4.625897161408843, 4.624825285063827, 4.62376112342648, 4.622704620971074, 4.621655722571521, 4.620614373498497, 4.619580519416585, 4.618554106381445, 4.617535080836987, 4.616523389612594, 4.615518979920331, 4.614521799352205, 4.613531795877418, 4.612548917839658, 4.61157311395441, 4.610604333306265, 4.609642525346276, 4.608687639889315, 4.607739627111459, 4.606798437547383, 4.605864022087784, 4.604936331976818, 4.604015318809556, 4.603100934529458, 4.6021931314258655, 4.601291862131512, 4.600397079620049, 4.599508737203599, 4.598626788530313, 4.597751187581952, 4.596881888671492, 4.596018846440736, 4.595162015857943, 4.594311352215486, 4.593466811127518, 4.59262834852765, 4.591795920666658, 4.590969484110197, 4.590148995736537, 4.589334412734312, 4.588525692600283, 4.587722793137126, 4.586925672451227, 4.586134288950497, 4.585348601342198, 4.584568568630797, 4.583794150115818, 4.583025305389722, 4.582261994335801, 4.58150417712608, 4.5807518142192425, 4.580004866358566, 4.579263294569874, 4.5785270601595025, 4.577796124712278, 4.577070450089521, 4.576349998427045, 4.575634732133192, 4.574924613886861, 4.574219606635567, 4.573519673593509, 4.572824778239643, 4.572134884315785, 4.571449955824711, 4.570769957028286, 4.570094852445597, 4.569424606851098, 4.568759185272776, 4.568098552990324, 4.567442675533333, 4.566791518679488, 4.566145048452789, 4.56550323112177, 4.564866033197746, 4.56423342143306, 4.563605362819359, 4.5629818245858536, 4.562362774197625, 4.561748179353918, 4.561138007986461, 4.560532228257787, 4.559930808559578, 4.559333717511011, 4.558740923957126, 4.558152396967195, 4.557568105833109, 4.556988020067781, 4.556412109403549, 4.555840343790599, 4.555272693395397, 4.554709128599133, 4.554149619996175, 4.553594138392537, 4.553042654804346, 4.552495140456346, 4.551951566780383, 4.551411905413918, 4.550876128198553, 4.550344207178551, 4.549816114599386, 4.5492918229062935, 4.5487713047428295, 4.548254532949444, 4.547741480562067, 4.547232120810698, 4.546726427118009, 4.546224373097964, 4.545725932554433, 4.54523107947983, 4.54473978805376, 4.544252032641661, 4.543767787793478, 4.543287028242326, 4.54280972890318, 4.542335864871555, 4.541865411422221, 4.5413983440078995, 4.54093463825799, 4.540474269977296, 4.540017215144766, 4.539563449912232, 4.539112950603176, 4.538665693711484, 4.538221655900228, 4.537780814000445, 4.537343145009926, 4.5369086260920195, 4.536477234574434, 4.536048947948069, 4.535623743865819, 4.535201600141424, 4.534782494748313, 4.534366405818439, 4.5339533116411515, 4.533543190662064, 4.533136021481918, 4.532731782855481, 4.532330453690423, 4.531932013046232, 4.531536440133108, 4.531143714310881, 4.530753815087941, 4.530366722120163, 4.529982415209844, 4.529600874304655, 4.52922207949659, 4.528846011020926, 4.528472649255199, 4.528101974718171, 4.527733968068822, 4.527368610105333, 4.527005881764093, 4.526645764118694, 4.526288238378949, 4.5259332858899155, 4.525580888130913, 4.525231026714565, 4.524883683385835, 4.524538840021075, 4.524196478627077, 4.523856581340143, 4.523519130425141, 4.52318410827459, 4.522851497407734, 4.522521280469634, 4.522193440230261, 4.521867959583599, 4.521544821546745, 4.521224009259034, 4.520905505981153, 4.5205892950942665, 4.520275360099152, 4.519963684615338, 4.519654252380249, 4.519347047248361, 4.51904205319035, 4.518739254292265, 4.518438634754693, 4.518140178891936, 4.517843871131191, 4.517549696011737, 4.517257638184136, 4.516967682409417, 4.516679813558299, 4.516394016610382, 4.516110276653384, 4.515828578882345, 4.515548908598865, 4.515271251210334, 4.5149955922291705, 4.514721917272065, 4.514450212059232, 4.51418046241366, 4.513912654260378, 4.513646773625718, 4.513382806636581, 4.513120739519724, 4.512860558601034, 4.5126022503048135, 4.512345801153077, 4.512091197764844, 4.511838426855442, 4.511587475235812, 4.511338329811827, 4.5110909775836, 4.510845405644804, 4.510601601182015, 4.510359551474021, 4.51011924389118, 4.50988066589474, 4.509643805036204, 4.509408648956666, 4.509175185386174, 4.508943402143087, 4.508713287133441, 4.5084848283503165, 4.508258013873211, 4.5080328318674185, 4.507809270583417, 4.507587318356242, 4.507366963604894, 4.50714819483172, 4.506931000621827, 4.506715369642471, 4.506501290642482, 4.506288752451664, 4.506077743980219, 4.505868254218167, 4.50566027223477, 4.505453787177963, 4.5052487882737875, 4.5050452648258315, 4.504843206214665, 4.5046426018972925, 4.504443441406601, 4.504245714350813, 4.504049410412946, 4.503854519350266, 4.503661030993771, 4.50346893524764, 4.503278222088719, 4.503088881565995, 4.502900903800075, 4.502714278982674, 4.502528997376097, 4.50234504931274, 4.5021624251945775, 4.5019811154926614, 4.5018011107466345, 4.501622401564225, 4.5014449786207615, 4.501268832658686, 4.501093954487071, 4.500920334981137, 4.500747965081784, 4.50057683579511, 4.500406938191949, 4.500238263407397, 4.500070802640357, 4.499904547153076, 4.499739488270693, 4.499575617380779, 4.4994129259328925, 4.4992514054381365, 4.499091047468709, 4.4989318436574655, 4.498773785697485, 4.498616865341633, 4.498461074402136, 4.498306404750146, 4.498152848315325, 4.498000397085419, 4.497849043105842, 4.497698778479262, 4.497549595365181, 4.497401485979542, 4.497254442594301, 4.497108457537045, 4.496963523190578, 4.49681963199253, 4.49667677643496, 4.49653494906396, 4.4963941424792795, 4.496254349333924, 4.4961155623337765, 4.495977774237225, 4.495840977854774, 4.495705166048674, 4.495570331732549, 4.495436467871027, 4.495303567479373, 4.495171623623119, 4.495040629417715, 4.494910578028152, 4.494781462668626, 4.494653276602165, 4.4945260131402875, 4.494399665642654, 4.4942742275167165, 4.494149692217374, 4.494026053246638, 4.493903304153283, 4.493781438532519, 4.493660450025653, 4.493540332319758, 4.4934210791473435, 4.493302684286027, 4.4931851415582145, 4.49306844483077, 4.492952588014705, 4.492837565064851, 4.492723369979552, 4.492609996800349, 4.492497439611663, 4.4923856925404975, 4.492274749756125, 4.492164605469782, 4.492055253934368, 4.491946689444153, 4.491838906334466, 4.491731898981411, 4.491625661801567, 4.491520189251703, 4.491415475828478, 4.491311516068167, 4.491208304546366, 4.491105835877716, 4.491004104715614, 4.490903105751942, 4.490802833716785, 4.490703283378156, 4.490604449541729, 4.4905063270505625, 4.490408910784827, 4.490312195661548, 4.49021617663433, 4.4901208486931035, 4.4900262068638535, 4.48993224620837, 4.489838961823981, 4.489746348843303, 4.4896544024339855, 4.489563117798455, 4.489472490173671, 4.489382514830874, 4.489293187075338, 4.489204502246129, 4.489116455715857, 4.489029042890441, 4.488942259208857, 4.488856100142919, 4.488770561197024, 4.488685637907931, 4.488601325844521, 4.488517620607563, 4.488434517829497, 4.488352013174193, 4.488270102336728, 4.48818878104317, 4.48810804505034, 4.488027890145607, 4.487948312146651, 4.4878693069012625, 4.48779087028711, 4.4877129982115385, 4.487635686611342, 4.487558931452567, 4.487482728730286, 4.487407074468403, 4.487331964719437, 4.487257395564316, 4.48718336311218, 4.487109863500169, 4.4870368928932285, 4.486964447483904, 4.486892523492144, 4.486821117165107, 4.486750224776961, 4.486679842628688, 4.486609967047895, 4.48654059438862, 4.486471721031143, 4.486403343381796, 4.486335457872778, 4.486268060961964, 4.486201149132724, 4.486134718893739, 4.486068766778817, 4.486003289346716, 4.485938283180961, 4.485873744889664, 4.485809671105355, 4.485746058484795, 4.485682903708813, 4.4856202034821235, 4.485557954533159, 4.485496153613902, 4.485434797499709, 4.485373882989144, 4.485313406903819, 4.485253366088215, 4.4851937574095295, 4.485134577757507, 4.4850758240442765, 4.485017493204191, 4.484959582193671, 4.484902087991039, 4.4848450075963715, 4.484788338031329, 4.4847320763390135, 4.484676219583808, 4.484620764851224, 4.4845657092477476, 4.484511049900696, 4.484456783958057, 4.484402908588347, 4.484349420980461, 4.484296318343529, 4.484243597906768, 4.484191256919332, 4.4841392926501795, 4.484087702387926, 4.484036483440697, 4.483985633135995, 4.4839351488205565, 4.483885027860219, 4.483835267639774, 4.483785865562836, 4.4837368190517095, 4.483688125547249, 4.483639782508729, 4.4835917874137134, 4.4835441377579155, 4.483496831055078, 4.483449864836835, 4.48340323665259, 4.483356944069378, 4.483310984671752, 4.483265356061643, 4.483220055858251, 4.4831750816979, 4.483130431233938, 4.4830861021365935, 4.4830420920928695, 4.482998398806412, 4.482955019997397, 4.48291195340241, 4.482869196774326, 4.482826747882191, 4.4827846045111155, 4.482742764462143, 4.482701225552147, 4.482659985613718, 4.4826190424950365, 4.4825783940597805, 4.482538038186998, 4.482497972771005, 4.482458195721271, 4.4824187049623125, 4.482379498433586, 4.482340574089374, 4.482301929898689, 4.482263563845156, 4.482225473926914, 4.482187658156512, 4.4821501145608025, 4.482112841180838, 4.482075836071771, 4.4820390973027555, 4.482002622956837, 4.481966411130861, 4.481930459935368, 4.481894767494503, 4.481859331945908, 4.48182415144063, 4.481789224143023, 4.481754548230656, 4.48172012189421, 4.481685943337392, 4.481652010776836, 4.481618322442013, 4.481584876575135, 4.481551671431066, 4.4815187052772325, 4.48148597639353, 4.481453483072232, 4.4814212236179065, 4.481389196347322, 4.481357399589361, 4.481325831684938, 4.481294490986905, 4.481263375859968, 4.481232484680606, 4.481201815836983, 4.481171367728863, 4.4811411387675255, 4.481111127375686, 4.481081331987418, 4.481051751048054, 4.481022383014126, 4.480993226353268, 4.480964279544153, 4.480935541076391, 4.4809070094504735, 4.480878683177675, 4.480850560779993, 4.480822640790059, 4.480794921751066, 4.480767402216692, 4.480740080751028, 4.480712955928495, 4.4806860263337756, 4.480659290561742, 4.480632747217374, 4.480606394915701, 4.480580232281711, 4.480554257950291, 4.480528470566161, 4.480502868783783, 4.480477451267313, 4.480452216690516, 4.480427163736707, 4.480402291098673, 4.480377597478613, 4.480353081588064, 4.480328742147841, 4.480304577887963, 4.480280587547584, 4.480256769874945, 4.480233123627286, 4.480209647570795, 4.480186340480542, 4.480163201140412, 4.480140228343041, 4.480117420889758, 4.480094777590517, 4.480072297263838, 4.480049978736745, 4.480027820844704, 4.48000582243156, 4.479983982349487, 4.479962299458911, 4.479940772628466, 4.479919400734926, 4.479898182663152, 4.479877117306026, 4.479856203564405, 4.479835440347053, 4.479814826570586, 4.479794361159426, 4.479774043045726, 4.479753871169331, 4.479733844477714, 4.479713961925924, 4.479694222476531, 4.479674625099574, 4.479655168772499, 4.4796358524801185, 4.479616675214549, 4.47959763597516, 4.4795787337685224, 4.479559967608361, 4.479541336515496, 4.479522839517793, 4.479504475650122, 4.479486243954294, 4.479468143479014, 4.479450173279841, 4.479432332419124, 4.479414619965968, 4.479397034996171, 4.479379576592186, 4.479362243843075, 4.479345035844444, 4.479327951698421, 4.479310990513589, 4.479294151404949, 4.479277433493872, 4.479260835908052, 4.479244357781462, 4.479227998254308, 4.479211756472983, 4.479195631590025, 4.479179622764073, 4.479163729159819, 4.479147949947968, 4.479132284305192, 4.479116731414092, 4.479101290463152, 4.479085960646696, 4.479070741164841, 4.4790556312234715, 4.479040630034181, 4.479025736814238, 4.479010950786544, 4.4789962711796, 4.478981697227449, 4.478967228169658, 4.478952863251258, 4.478938601722719, 4.4789244428399035, 4.478910385864032, 4.478896430061639, 4.478882574704542, 4.478868819069796, 4.478855162439662, 4.478841604101564, 4.478828143348058, 4.478814779476789, 4.478801511790458, 4.478788339596786, 4.478775262208474, 4.478762278943172, 4.478749389123441, 4.478736592076715, 4.478723887135275, 4.478711273636199, 4.478698750921343, 4.4786863183373, 4.47867397523536, 4.478661720971488, 4.478649554906282, 4.478637476404941, 4.478625484837236, 4.478613579577471, 4.478601760004453, 4.478590025501466, 4.478578375456224, 4.478566809260851, 4.4785553263118505, 4.478543926010066, 4.478532607760652, 4.478521370973047, 4.478510215060937, 4.478499139442231, 4.478488143539028, 4.478477226777583, 4.478466388588283, 4.478455628405614, 4.47844494566813, 4.478434339818432, 4.478423810303126, 4.478413356572803, 4.4784029780820145, 4.478392674289227, 4.478382444656812, 4.478372288651009, 4.478362205741901, 4.478352195403377, 4.478342257113124, 4.47833239035258, 4.4783225946069205, 4.478312869365021, 4.478303214119441, 4.478293628366389, 4.478284111605702, 4.478274663340812, 4.4782652830787315, 4.478255970330016, 4.478246724608748, 4.478237545432501, 4.47822843232233, 4.4782193848027285, 4.478210402401617, 4.478201484650312, 4.4781926310835045, 4.478183841239235, 4.478175114658864, 4.478166450887061, 4.478157849471767, 4.478149309964177, 4.478140831918719, 4.478132414893026, 4.478124058447914, 4.478115762147364, 4.478107525558487, 4.4780993482515195, 4.478091229799787, 4.478083169779684, 4.4780751677706565, 4.478067223355174, 4.478059336118717, 4.478051505649743, 4.478043731539676, 4.47803601338288, 4.478028350776635, 4.478020743321126, 4.478013190619409, 4.478005692277401, 4.477998247903854, 4.477990857110334, 4.477983519511209, 4.4779762347236165, 4.477969002367451, 4.477961822065343, 4.477954693442641, 4.477947616127386, 4.477940589750301, 4.477933613944763, 4.477926688346788, 4.477919812595016, 4.477912986330681, 4.477906209197606, 4.477899480842172, 4.477892800913309, 4.477886169062471, 4.477879584943622, 4.477873048213219, 4.4778665585301844, 4.477860115555904, 4.477853718954197, 4.477847368391299, 4.477841063535854, 4.477834804058886, 4.47782858963379, 4.477822419936309, 4.477816294644521, 4.477810213438821, 4.477804176001906, 4.477798182018755, 4.477792231176611, 4.4777863231649775, 4.477780457675583, 4.477774634402377, 4.477768853041517, 4.47776311329134, 4.477757414852362, 4.477751757427248, 4.477746140720805, 4.477740564439966, 4.477735028293772, 4.477729531993357, 4.477724075251938, 4.477718657784792, 4.477713279309249, 4.477707939544669, 4.477702638212436, 4.477697375035936, 4.477692149740548, 4.477686962053628, 4.4776818117044925, 4.477676698424406, 4.477671621946571, 4.477666582006105, 4.477661578340035, 4.477656610687281, 4.47765167878864, 4.4776467823867785, 4.477641921226208, 4.477637095053288, 4.477632303616196, 4.477627546664926, 4.477622823951269, 4.4776181352288065, 4.477613480252886, 4.477608858780626, 4.477604270570884, 4.477599715384259, 4.4775951929830695, 4.477590703131346, 4.477586245594819, 4.477581820140901, 4.477577426538683, 4.477573064558916, 4.477568733974, 4.477564434557975, 4.477560166086506, 4.477555928336873, 4.477551721087959, 4.477547544120241, 4.477543397215769, 4.477539280158171, 4.477535192732622, 4.477531134725855, 4.477527105926128, 4.477523106123227, 4.477519135108451, 4.477515192674599, 4.477511278615967, 4.477507392728324, 4.477503534808915, 4.47749970465644, 4.477495902071051, 4.477492126854335, 4.477488378809311, 4.477484657740413, 4.477480963453484, 4.477477295755764, 4.47747365445588, 4.477470039363836, 4.477466450291004, 4.477462887050114, 4.477459349455245, 4.477455837321811, 4.477452350466556, 4.477448888707543, 4.477445451864147, 4.477442039757038, 4.47743865220818, 4.47743528904082, 4.477431950079473, 4.477428635149919, 4.477425344079192, 4.477422076695571, 4.47741883282857, 4.477415612308931, 4.477412414968617, 4.477409240640795, 4.477406089159833, 4.477402960361297, 4.47739985408193, 4.477396770159657, 4.477393708433559, 4.477390668743887, 4.477387650932036, 4.477384654840539, 4.477381680313071, 4.477378727194422, 4.477375795330509, 4.477372884568353, 4.477369994756073, 4.477367125742888, 4.477364277379101, 4.477361449516084, 4.477358642006289, 4.477355854703225, 4.4773530874614575, 4.477350340136597, 4.477347612585293, 4.4773449046652285, 4.477342216235109, 4.477339547154659, 4.477336897284611, 4.4773342664867, 4.477331654623657, 4.4773290615592005, 4.477326487158029, 4.477323931285817, 4.477321393809201, 4.477318874595786, 4.477316373514121, 4.477313890433707, 4.47731142522498, 4.47730897775931, 4.477306547908998, 4.477304135547255, 4.47730174054821, 4.477299362786896, 4.477297002139251, 4.477294658482093, 4.477292331693145, 4.477290021650993, 4.477287728235106, 4.477285451325817, 4.477283190804324, 4.477280946552676, 4.477278718453773, 4.477276506391358, 4.477274310250008, 4.4772721299151375, 4.477269965272977, 4.477267816210581, 4.477265682615817, 4.477263564377358, 4.477261461384679, 4.477259373528049, 4.477257300698528, 4.477255242787962, 4.477253199688973, 4.477251171294956, 4.477249157500071, 4.477247158199247, 4.4772451732881615, 4.477243202663247, 4.4772412462216815, 4.4772393038613805, 4.477237375480995, 4.47723546097991, 4.477233560258225, 4.477231673216769, 4.477229799757079, 4.4772279397814, 4.477226093192685, 4.477224259894579, 4.477222439791429, 4.4772206327882635, 4.4772188387907965, 4.477217057705422, 4.477215289439206, 4.477213533899885, 4.477211790995859, 4.477210060636183, 4.477208342730574, 4.477206637189394, 4.477204943923653, 4.477203262845, 4.4772015938657175, 4.477199936898723, 4.47719829185756, 4.477196658656393, 4.477195037210004, 4.47719342743379, 4.477191829243759, 4.477190242556516, 4.4771886672892744, 4.477187103359839, 4.477185550686608, 4.477184009188564, 4.477182478785276, 4.477180959396892, 4.477179450944132, 4.477177953348289, 4.477176466531221, 4.477174990415349, 4.4771735249236535, 4.477172069979665, 4.477170625507471, 4.477169191431702, 4.477167767677529, 4.477166354170663, 4.477164950837352, 4.4771635576043725, 4.477162174399029, 4.477160801149148, 4.477159437783075, 4.477158084229675, 4.47715674041832, 4.477155406278896, 4.477154081741786, 4.477152766737881, 4.477151461198567, 4.477150165055724, 4.47714887824172, 4.477147600689414, 4.477146332332144, 4.477145073103731, 4.47714382293847, 4.477142581771133, 4.4771413495369545, 4.4771401261716415, 4.47713891161136, 4.477137705792738, 4.477136508652858, 4.477135320129255, 4.477134140159916, 4.4771329686832715, 4.477131805638196, 4.477130650964005, 4.477129504600449, 4.477128366487714, 4.477127236566417, 4.4771261147776, 4.477125001062728, 4.477123895363691, 4.477122797622799, 4.4771217077827705, 4.477120625786741, 4.477119551578255, 4.477118485101262, 4.477117426300116, 4.477116375119569, 4.477115331504776, 4.477114295401279, 4.47711326675502, 4.477112245512325, 4.477111231619907, 4.477110225024866, 4.477109225674675, 4.477108233517195, 4.477107248500654, 4.477106270573659, 4.477105299685181, 4.477104335784562, 4.477103378821507, 4.477102428746085, 4.477101485508722, 4.477100549060203, 4.477099619351666, 4.477098696334599, 4.4770977799608405, 4.47709687018258, 4.477095966952343, 4.477095070223004, 4.4770941799477715, 4.477093296080192, 4.47709241857415, 4.477091547383859, 4.477090682463859, 4.477089823769021, 4.4770889712545445, 4.477088124875941, 4.477087284589051, 4.47708645035003, 4.477085622115349, 4.477084799841793, 4.477083983486458, 4.477083173006745, 4.47708236836037, 4.477081569505343, 4.477080776399986, 4.477079989002913, 4.477079207273041, 4.477078431169581, 4.477077660652036, 4.477076895680204, 4.47707613621417, 4.477075382214305, 4.4770746336412675, 4.477073890456, 4.477073152619724, 4.477072420093939, 4.477071692840426, 4.477070970821237, 4.477070253998698, 4.477069542335407, 4.477068835794234, 4.477068134338308, 4.477067437931032, 4.4770667465360665, 4.477066060117338, 4.477065378639031, 4.477064702065585, 4.4770640303617, 4.477063363492327, 4.47706270142267, 4.477062044118185, 4.477061391544573, 4.477060743667784, 4.477060100454016, 4.477059461869704, 4.477058827881531, 4.477058198456414, 4.477057573561515, 4.477056953164224, 4.477056337232172, 4.477055725733221, 4.477055118635463, 4.477054515907222, 4.47705391751705, 4.477053323433722, 4.477052733626241, 4.477052148063833, 4.477051566715941, 4.477050989552238, 4.4770504165426015, 4.477049847657138, 4.4770492828661625, 4.477048722140205, 4.477048165450009, 4.477047612766527, 4.477047064060922, 4.4770465193045625, 4.477045978469025, 4.47704544152609, 4.477044908447739, 4.477044379206159, 4.477043853773736, 4.477043332123051, 4.477042814226889, 4.4770423000582245, 4.477041789590231, 4.4770412827962724, 4.477040779649906, 4.477040280124878, 4.4770397841951235, 4.4770392918347675, 4.477038803018118, 4.477038317719671, 4.477037835914105, 4.477037357576279, 4.477036882681235, 4.477036411204194, 4.477035943120555, 4.477035478405895, 4.477035017035966, 4.477034558986694, 4.477034104234179, 4.477033652754693, 4.4770332045246795, 4.477032759520751, 4.4770323177196865, 4.477031879098434, 4.47703144363411, 4.477031011303991, 4.477030582085516, 4.477030155956294, 4.4770297328940885, 4.477029312876824, 4.477028895882587, 4.477028481889617, 4.477028070876314, 4.477027662821235, 4.477027257703083, 4.477026855500723, 4.477026456193171, 4.477026059759586, 4.477025666179289, 4.477025275431742, 4.477024887496554, 4.477024502353485, 4.477024119982439, 4.477023740363467, 4.477023363476758, 4.4770229893026485, 4.477022617821613, 4.477022249014272, 4.47702188286138, 4.477021519343829, 4.477021158442656, 4.4770208001390275, 4.477020444414249, 4.477020091249758, 4.47701974062713, 4.477019392528066, 4.477019046934407, 4.477018703828117, 4.477018363191298, 4.4770180250061715, 4.477017689255095, 4.477017355920548, 4.477017024985139, 4.477016696431599, 4.477016370242786, 4.47701604640168, 4.477015724891382, 4.477015405695119, 4.477015088796235, 4.477014774178193, 4.47701446182458, 4.477014151719096, 4.477013843845561, 4.47701353818791, 4.477013234730196, 4.4770129334565825, 4.477012634351353, 4.477012337398899, 4.477012042583726, 4.477011749890452, 4.477011459303805, 4.4770111708086215, 4.477010884389849, 4.477010600032544, 4.477010317721867, 4.47701003744309, 4.477009759181587, 4.4770094829228375, 4.477009208652431, 4.4770089363560555, 4.477008666019499, 4.477008397628661, 4.477008131169535, 4.4770078666282185, 4.477007603990908, 4.4770073432438995, 4.477007084373588, 4.4770068273664645, 4.477006572209121, 4.477006318888244, 4.477006067390615, 4.477005817703112, 4.477005569812705, 4.477005323706462, 4.477005079371541, 4.477004836795191, 4.4770045959647575, 4.477004356867673, 4.477004119491465, 4.477003883823742, 4.477003649852212, 4.477003417564665, 4.477003186948981, 4.477002957993128, 4.477002730685158, 4.477002505013212, 4.477002280965512, 4.477002058530372, 4.477001837696182, 4.477001618451421, 4.47700140078465, 4.477001184684511, 4.477000970139726, 4.477000757139105, 4.47700054567153, 4.47700033572597, 4.477000127291468, 4.4769999203571516, 4.4769997149122185, 4.476999510945953, 4.476999308447712, 4.476999107406929, 4.476998907813114, 4.4769987096558514, 4.476998512924804, 4.4769983176097075, 4.476998123700367, 4.476997931186667, 4.476997740058563, 4.476997550306081, 4.476997361919322, 4.476997174888454, 4.4769969892037205, 4.476996804855432, 4.476996621833968, 4.47699644012978, 4.4769962597333866, 4.476996080635378, 4.476995902826404, 4.476995726297192, 4.476995551038529, 4.476995377041268, 4.476995204296335, 4.476995032794712, 4.476994862527453, 4.476994693485675, 4.476994525660553, 4.476994359043334, 4.476994193625324, 4.476994029397892, 4.476993866352466, 4.4769937044805435, 4.476993543773673, 4.476993384223475, 4.4769932258216185, 4.476993068559842, 4.476992912429941, 4.476992757423765, 4.476992603533229, 4.476992450750302, 4.476992299067012, 4.476992148475447, 4.476991998967747, 4.476991850536113, 4.476991703172796, 4.476991556870111, 4.476991411620423, 4.476991267416153, 4.476991124249776, 4.476990982113824, 4.476990841000878, 4.476990700903578, 4.476990561814611, 4.47699042372672, 4.476990286632702, 4.4769901505254035, 4.47699001539772, 4.476989881242603, 4.476989748053054, 4.47698961582212, 4.476989484542902, 4.476989354208554, 4.476989224812271, 4.476989096347301, 4.476988968806945, 4.476988842184547, 4.476988716473499, 4.476988591667241, 4.476988467759261, 4.476988344743097, 4.476988222612325, 4.476988101360578, 4.476987980981525, 4.476987861468887, 4.476987742816426, 4.476987625017954, 4.4769875080673245, 4.476987391958431, 4.47698727668522, 4.476987162241674, 4.476987048621823, 4.4769869358197365, 4.476986823829532, 4.476986712645362, 4.476986602261429, 4.476986492671972, 4.476986383871273, 4.476986275853651, 4.476986168613477, 4.4769860621451505, 4.4769859564431185, 4.476985851501865, 4.476985747315913, 4.476985643879829, 4.476985541188213, 4.476985439235707, 4.476985338016996, 4.476985237526794, 4.476985137759857, 4.476985038710984, 4.476984940375001, 4.4769848427467815, 4.47698474582123, 4.476984649593288, 4.476984554057936, 4.47698445921019, 4.476984365045099, 4.476984271557752, 4.476984178743267, 4.476984086596804, 4.476983995113557, 4.476983904288748, 4.476983814117641, 4.476983724595529, 4.476983635717744, 4.476983547479645, 4.476983459876631, 4.4769833729041295, 4.476983286557602, 4.476983200832545, 4.476983115724483, 4.476983031228977, 4.476982947341619, 4.476982864058029, 4.476982781373865, 4.476982699284808, 4.47698261778658, 4.476982536874925, 4.476982456545623, 4.476982376794481, 4.47698229761734, 4.4769822190100665, 4.47698214096856, 4.47698206348875, 4.47698198656659, 4.47698191019807, 4.476981834379203, 4.476981759106033, 4.476981684374634, 4.476981610181105, 4.476981536521576, 4.476981463392202, 4.47698139078917, 4.476981318708689, 4.476981247146999, 4.476981176100367, 4.476981105565084, 4.47698103553747, 4.4769809660138735, 4.476980896990665, 4.476980828464242, 4.476980760431031, 4.476980692887481, 4.476980625830068, 4.476980559255293, 4.476980493159682, 4.476980427539787, 4.476980362392185, 4.476980297713474, 4.476980233500281, 4.476980169749254, 4.476980106457068, 4.476980043620421, 4.476979981236035, 4.476979919300651, 4.476979857811041, 4.476979796763995, 4.476979736156329, 4.476979675984879, 4.476979616246506, 4.476979556938094, 4.476979498056546, 4.476979439598793, 4.476979381561783, 4.476979323942486, 4.4769792667378985, 4.476979209945034, 4.47697915356093, 4.476979097582646, 4.476979042007256, 4.476978986831866, 4.476978932053592, 4.476978877669581, 4.476978823676992, 4.476978770073007, 4.476978716854831, 4.476978664019689, 4.47697861156482, 4.476978559487489, 4.476978507784979, 4.476978456454592, 4.476978405493649, 4.476978354899492, 4.4769783046694815, 4.476978254800994, 4.476978205291431, 4.476978156138206, 4.476978107338757, 4.476978058890536, 4.476978010791016, 4.476977963037685, 4.476977915628054, 4.476977868559649, 4.476977821830014, 4.476977775436708, 4.476977729377316, 4.476977683649428, 4.476977638250663, 4.476977593178649, 4.476977548431037, 4.47697750400549, 4.476977459899691, 4.476977416111339, 4.4769773726381485, 4.476977329477851, 4.476977286628195, 4.476977244086945, 4.47697720185188, 4.476977159920796, 4.476977118291509, 4.476977076961843, 4.476977035929641, 4.476976995192765, 4.476976954749088, 4.476976914596499, 4.476976874732904, 4.476976835156223, 4.47697679586439, 4.476976756855356, 4.476976718127085, 4.476976679677556, 4.4769766415047645, 4.4769766036067145, 4.476976565981434, 4.476976528626956, 4.476976491541333, 4.47697645472263, 4.476976418168924, 4.47697638187831, 4.476976345848894, 4.476976310078795, 4.476976274566146, 4.476976239309099, 4.4769762043058074, 4.476976169554449, 4.476976135053208, 4.476976100800287, 4.476976066793898, 4.476976033032265, 4.476975999513628, 4.476975966236238, 4.476975933198358, 4.476975900398265, 4.476975867834246, 4.476975835504604, 4.476975803407649, 4.476975771541709, 4.476975739905121, 4.476975708496233, 4.4769756773134075, 4.476975646355015, 4.476975615619444, 4.476975585105088, 4.476975554810356, 4.4769755247336676, 4.476975494873452, 4.476975465228151, 4.476975435796219, 4.476975406576121, 4.476975377566331, 4.476975348765335, 4.476975320171631, 4.476975291783726, 4.476975263600143, 4.476975235619405, 4.476975207840056, 4.476975180260646, 4.476975152879735, 4.476975125695896, 4.476975098707709, 4.476975071913767, 4.47697504531267, 4.476975018903032, 4.476974992683475, 4.476974966652629, 4.476974940809138, 4.4769749151516525, 4.476974889678835, 4.476974864389353, 4.47697483928189, 4.476974814355136, 4.476974789607788, 4.476974765038556, 4.47697474064616, 4.476974716429324, 4.476974692386787, 4.476974668517293, 4.476974644819597, 4.476974621292462, 4.476974597934661, 4.476974574744976, 4.476974551722194, 4.476974528865118, 4.476974506172553, 4.476974483643314, 4.476974461276226, 4.476974439070126, 4.4769744170238495, 4.4769743951362475, 4.47697437340618, 4.476974351832514, 4.47697433041412, 4.476974309149883, 4.476974288038693, 4.476974267079448, 4.476974246271055, 4.476974225612428, 4.476974205102489, 4.476974184740168, 4.476974164524402, 4.476974144454138, 4.476974124528326, 4.4769741047459295, 4.476974085105914, 4.476974065607253, 4.476974046248933, 4.476974027029944, 4.476974007949279, 4.476973989005945, 4.476973970198955, 4.4769739515273255, 4.476973932990082, 4.476973914586259, 4.476973896314896, 4.476973878175039, 4.476973860165741, 4.476973842286062, 4.476973824535071, 4.476973806911841, 4.476973789415452, 4.476973772044991, 4.476973754799552, 4.476973737678235, 4.476973720680146, 4.4769737038044, 4.476973687050116, 4.476973670416417, 4.476973653902437, 4.476973637507316, 4.476973621230197, 4.47697360507023, 4.476973589026573, 4.476973573098389, 4.476973557284844, 4.476973541585117, 4.476973525998386, 4.47697351052384, 4.47697349516067, 4.476973479908073, 4.476973464765257, 4.476973449731429, 4.476973434805804, 4.476973419987607, 4.476973405276061, 4.4769733906704, 4.47697337616986, 4.476973361773687, 4.476973347481128, 4.47697333329144, 4.476973319203879, 4.4769733052177125, 4.47697329133221, 4.476973277546646, 4.476973263860302, 4.476973250272464, 4.476973236782422, 4.476973223389477, 4.476973210092923, 4.476973196892069, 4.476973183786228, 4.476973170774714, 4.476973157856849, 4.47697314503196, 4.476973132299374, 4.476973119658432, 4.476973107108471, 4.476973094648836, 4.476973082278879, 4.476973069997952, 4.476973057805417, 4.476973045700635, 4.476973033682977, 4.476973021751815, 4.476973009906526, 4.476972998146491, 4.476972986471098, 4.476972974879737, 4.4769729633718045, 4.476972951946698, 4.476972940603823, 4.476972929342588, 4.476972918162402, 4.476972907062686, 4.4769728960428585, 4.476972885102343, 4.476972874240574, 4.47697286345698, 4.4769728527509995, 4.476972842122074, 4.476972831569648, 4.476972821093174, 4.476972810692102, 4.47697280036589, 4.476972790114001, 4.476972779935898, 4.476972769831051, 4.476972759798933, 4.476972749839019, 4.47697273995079, 4.476972730133731, 4.476972720387329, 4.4769727107110775, 4.476972701104468, 4.476972691567001, 4.47697268209818, 4.476972672697508, 4.476972663364497, 4.47697265409866, 4.4769726448995115, 4.476972635766573, 4.476972626699368, 4.476972617697425, 4.47697260876027, 4.476972599887439, 4.476972591078471, 4.476972582332904, 4.476972573650281, 4.476972565030152, 4.476972556472064, 4.476972547975572, 4.476972539540234, 4.476972531165606, 4.476972522851256, 4.476972514596746, 4.476972506401647, 4.476972498265532, 4.476972490187975, 4.476972482168555, 4.476972474206855, 4.476972466302458, 4.476972458454951, 4.476972450663927, 4.476972442928977, 4.4769724352496985, 4.476972427625692, 4.476972420056557, 4.4769724125419, 4.47697240508133, 4.476972397674456, 4.476972390320892, 4.476972383020255, 4.476972375772163, 4.476972368576237, 4.476972361432105, 4.476972354339392, 4.4769723472977265, 4.476972340306743, 4.476972333366077, 4.476972326475365, 4.476972319634248, 4.47697231284237, 4.476972306099375, 4.476972299404912, 4.476972292758632, 4.476972286160188, 4.476972279609235, 4.4769722731054316, 4.47697226664844, 4.476972260237921, 4.476972253873541, 4.476972247554967, 4.476972241281871, 4.476972235053925, 4.476972228870803, 4.476972222732185, 4.476972216637748, 4.476972210587175, 4.47697220458015, 4.476972198616361, 4.476972192695494, 4.476972186817243, 4.476972180981299, 4.47697217518736, 4.476972169435122, 4.476972163724284, 4.47697215805455, 4.476972152425623, 4.476972146837209, 4.476972141289018]\n"
     ]
    }
   ],
   "source": [
    "print(costs)"
   ]
  },
  {
   "cell_type": "code",
   "execution_count": 297,
   "metadata": {},
   "outputs": [
    {
     "data": {
      "image/png": "[encoded data removed]",
      "text/plain": [
       "<Figure size 432x288 with 1 Axes>"
      ]
     },
     "metadata": {
      "needs_background": "light"
     },
     "output_type": "display_data"
    }
   ],
   "source": [
    "fig,ax = plt.subplots()#fig整个绘图的图像（画布） ax实例这里是一个\n",
    "ax.plot(np.arange(iters),costs) \n",
    "ax.set(xlabel='iters',\n",
    "       ylabel='cost',\n",
    "       title='cost vs iters')\n",
    "plt.show()"
   ]
  },
  {
   "cell_type": "code",
   "execution_count": 257,
   "metadata": {},
   "outputs": [
    {
     "data": {
      "image/png": "[encoded data removed]",
      "text/plain": [
       "<Figure size 432x288 with 6 Axes>"
      ]
     },
     "metadata": {
      "needs_background": "light"
     },
     "output_type": "display_data"
    }
   ],
   "source": [
    "fig,ax = plt.subplots(2,3)#这里是2*3=6\n",
    "ax1 = ax[0,0]\n",
    "#ax1.plot/ax1.set\n",
    "plt.show()"
   ]
  },
  {
   "cell_type": "code",
   "execution_count": 304,
   "metadata": {},
   "outputs": [
    {
     "data": {
      "image/png": "[encoded data removed]",
      "text/plain": [
       "<Figure size 432x288 with 1 Axes>"
      ]
     },
     "metadata": {
      "needs_background": "light"
     },
     "output_type": "display_data"
    }
   ],
   "source": [
    "x=np.linspace(Y.min(),Y.max(),100)\n",
    "y=theta[0,0]+theta[1,0]*x\n",
    "fig,ax = plt.subplots()\n",
    "ax.scatter(X[:,-1],Y,label='training data')#training data的点\n",
    "ax.plot(x,y,'r',label='prediect')\n",
    "ax.legend()#show label\n",
    "ax.set(xlabel='population',ylabel='profit')\n",
    "plt.show()"
   ]
  },
  {
   "cell_type": "code",
   "execution_count": null,
   "metadata": {},
   "outputs": [],
   "source": []
  },
  {
   "cell_type": "code",
   "execution_count": null,
   "metadata": {},
   "outputs": [],
   "source": []
  },
  {
   "cell_type": "raw",
   "metadata": {},
   "source": []
  }
 ],
 "metadata": {
  "kernelspec": {
   "display_name": "Python 3",
   "language": "python",
   "name": "python3"
  },
  "language_info": {
   "codemirror_mode": {
    "name": "ipython",
    "version": 3
   },
   "file_extension": ".py",
   "mimetype": "text/x-python",
   "name": "python",
   "nbconvert_exporter": "python",
   "pygments_lexer": "ipython3",
   "version": "3.7.4"
  }
 },
 "nbformat": 4,
 "nbformat_minor": 2
}
