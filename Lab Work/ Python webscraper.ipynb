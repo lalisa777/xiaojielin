{
 "cells": [
  {
   "cell_type": "code",
   "execution_count": 12,
   "metadata": {},
   "outputs": [],
   "source": [
    "from urllib.request import urlopen\n",
    "from bs4 import BeautifulSoup\n",
    "from gensim.summarization import summarize\n",
    "import os"
   ]
  },
  {
   "cell_type": "code",
   "execution_count": 13,
   "metadata": {},
   "outputs": [],
   "source": [
    "def urlBs(url):\n",
    "    html = urlopen(url).read().decode('gbk')\n",
    "    soup = BeautifulSoup(html,features='lxml')\n",
    "    return soup"
   ]
  },
  {
   "cell_type": "code",
   "execution_count": 14,
   "metadata": {},
   "outputs": [],
   "source": [
    "def main(url):\n",
    "    soup = urlBs(url)\n",
    "    urls=[]\n",
    "    for i in soup.find_all('ul',class_='l1'):\n",
    "        lis = i.find_all('a')\n",
    "        for j in lis:\n",
    "            burls = (j['href'])\n",
    "            urls.append(burls)\n",
    "    for i in urls:\n",
    "        print(i)\n",
    "    \n",
    "    path =  os.getcwd()+u'/Articles/'\n",
    "    if  not os.path.isdir(path):\n",
    "        os.mkdir(path)\n",
    "        \n",
    "    \n",
    "    for i in urls:\n",
    "        results = urlBs(i)\n",
    "        title = results.find('div',class_= 'artview').find('h1').get_text()\n",
    "        writer = results.find('div',class_= 'artinfo').get_text()   \n",
    "        \n",
    "        filename =  path + title + '.txt'\n",
    "        new = open(filename,'w')\n",
    "        new.write('《' + title + '》\\n\\n')\n",
    "        new.write(writer + '\\n\\n')\n",
    "        text = results.find('div',class_= 'artbody').find('p').get_text()\n",
    "        new.write(text)\n",
    "        new.close()"
   ]
  },
  {
   "cell_type": "code",
   "execution_count": 15,
   "metadata": {},
   "outputs": [
    {
     "name": "stdout",
     "output_type": "stream",
     "text": [
      "http://www.rensheng5.com/duzhewenzhai/rensheng/id-180996.html\n",
      "http://www.rensheng5.com/duzhewenzhai/rensheng/id-180984.html\n",
      "http://www.rensheng5.com/duzhewenzhai/rensheng/id-180981.html\n",
      "http://www.rensheng5.com/duzhewenzhai/rensheng/id-180976.html\n",
      "http://www.rensheng5.com/duzhewenzhai/rensheng/id-180964.html\n",
      "http://www.rensheng5.com/duzhewenzhai/rensheng/id-180963.html\n",
      "http://www.rensheng5.com/duzhewenzhai/renwu/id-180928.html\n",
      "http://www.rensheng5.com/duzhewenzhai/renwu/id-180927.html\n",
      "http://www.rensheng5.com/duzhewenzhai/renwu/id-180924.html\n",
      "http://www.rensheng5.com/duzhewenzhai/renwu/id-180923.html\n",
      "http://www.rensheng5.com/duzhewenzhai/renwu/id-180922.html\n",
      "http://www.rensheng5.com/duzhewenzhai/renwu/id-180921.html\n",
      "http://www.rensheng5.com/duzhewenzhai/wy/id-180985.html\n",
      "http://www.rensheng5.com/duzhewenzhai/wy/id-180974.html\n",
      "http://www.rensheng5.com/duzhewenzhai/wy/id-180925.html\n",
      "http://www.rensheng5.com/duzhewenzhai/wy/id-180901.html\n",
      "http://www.rensheng5.com/duzhewenzhai/wy/id-180888.html\n",
      "http://www.rensheng5.com/duzhewenzhai/wy/id-180887.html\n",
      "http://www.rensheng5.com/duzhewenzhai/shehui/id-180991.html\n",
      "http://www.rensheng5.com/duzhewenzhai/shehui/id-180990.html\n",
      "http://www.rensheng5.com/duzhewenzhai/shehui/id-180988.html\n",
      "http://www.rensheng5.com/duzhewenzhai/shehui/id-180979.html\n",
      "http://www.rensheng5.com/duzhewenzhai/shehui/id-180965.html\n",
      "http://www.rensheng5.com/duzhewenzhai/shehui/id-180958.html\n",
      "http://www.rensheng5.com/duzhewenzhai/shenghuo/id-180960.html\n",
      "http://www.rensheng5.com/duzhewenzhai/shenghuo/id-180957.html\n",
      "http://www.rensheng5.com/duzhewenzhai/shenghuo/id-180956.html\n",
      "http://www.rensheng5.com/duzhewenzhai/shenghuo/id-180920.html\n",
      "http://www.rensheng5.com/duzhewenzhai/shenghuo/id-180919.html\n",
      "http://www.rensheng5.com/duzhewenzhai/shenghuo/id-180918.html\n",
      "http://www.rensheng5.com/duzhewenzhai/wenming/id-180986.html\n",
      "http://www.rensheng5.com/duzhewenzhai/wenming/id-180916.html\n",
      "http://www.rensheng5.com/duzhewenzhai/wenming/id-180915.html\n",
      "http://www.rensheng5.com/duzhewenzhai/wenming/id-180914.html\n",
      "http://www.rensheng5.com/duzhewenzhai/wenming/id-180913.html\n",
      "http://www.rensheng5.com/duzhewenzhai/wenming/id-180875.html\n",
      "http://www.rensheng5.com/duzhewenzhai/diandi/id-180982.html\n",
      "http://www.rensheng5.com/duzhewenzhai/diandi/id-180950.html\n",
      "http://www.rensheng5.com/duzhewenzhai/diandi/id-180949.html\n",
      "http://www.rensheng5.com/duzhewenzhai/diandi/id-180948.html\n",
      "http://www.rensheng5.com/duzhewenzhai/diandi/id-180906.html\n",
      "http://www.rensheng5.com/duzhewenzhai/diandi/id-180903.html\n"
     ]
    }
   ],
   "source": [
    "if __name__ =='__main__':\n",
    "    \n",
    "    firstUrl = 'http://www.rensheng5.com/zx/onduzhe/'\n",
    "    main(firstUrl)"
   ]
  }
 ],
 "metadata": {
  "kernelspec": {
   "display_name": "Python 3",
   "language": "python",
   "name": "python3"
  },
  "language_info": {
   "codemirror_mode": {
    "name": "ipython",
    "version": 3
   },
   "file_extension": ".py",
   "mimetype": "text/x-python",
   "name": "python",
   "nbconvert_exporter": "python",
   "pygments_lexer": "ipython3",
   "version": "3.7.4"
  }
 },
 "nbformat": 4,
 "nbformat_minor": 2
}
